{
 "cells": [
  {
   "cell_type": "markdown",
   "id": "92f71930-95d4-437b-8ab7-6df8bae4e6f5",
   "metadata": {},
   "source": [
    "*The key goal of the analysis is to measure the campaign performance by exercising statistical , predictive modeling and clustering techniques centric to brand awareness, generating leads and boosting sales*"
   ]
  },
  {
   "cell_type": "code",
   "execution_count": 2,
   "id": "9f95d863-cb52-4907-a9a9-0a3d1b5fb183",
   "metadata": {},
   "outputs": [],
   "source": [
    "import pandas as pd\n",
    "import numpy as np\n",
    "import matplotlib.pyplot as plt\n",
    "import seaborn as sns"
   ]
  },
  {
   "cell_type": "code",
   "execution_count": 3,
   "id": "0f56d269-43bd-4b66-9283-069aaed91e93",
   "metadata": {
    "scrolled": true
   },
   "outputs": [
    {
     "name": "stdout",
     "output_type": "stream",
     "text": [
      "  Campaign_ID   Product_ID    Budget  Clicks  Conversions  Revenue_Generated  \\\n",
      "0  CMP_RLSDVN  PROD_HBJFA3  41770.45    4946           73           15520.09   \n",
      "1  CMP_JHHUE9  PROD_OE8YNJ  29900.93     570          510           30866.17   \n",
      "2  CMP_6SBOWN  PROD_4V8A08  22367.45    3546          265           32585.62   \n",
      "3  CMP_Q31QCU  PROD_A1Q6ZB  29957.54    2573          781           95740.12   \n",
      "4  CMP_AY0UTJ  PROD_F57N66  36277.19     818           79           81990.43   \n",
      "\n",
      "    ROI  Customer_ID Subscription_Tier  Subscription_Length Flash_Sale_ID  \\\n",
      "0  1.94  CUST_1K7G39           Premium                    4  FLASH_1VFK5K   \n",
      "1  0.76  CUST_0DWS6F           Premium                    4  FLASH_1M6COK   \n",
      "2  1.41  CUST_BR2GST             Basic                    9  FLASH_J4PEON   \n",
      "3  3.32  CUST_6TBY6K           Premium                   32  FLASH_1TOVXT   \n",
      "4  3.53  CUST_XASI45          Standard                   29  FLASH_AOBHXL   \n",
      "\n",
      "   Discount_Level  Units_Sold    Bundle_ID  Bundle_Price  \\\n",
      "0              43          34  BNDL_29U6W5        433.80   \n",
      "1              28          97  BNDL_ULV60J        289.29   \n",
      "2              51         160  BNDL_0HY0EF        462.87   \n",
      "3              36         159  BNDL_AI09BC        334.16   \n",
      "4              20          52  BNDL_R03ITT        371.67   \n",
      "\n",
      "   Customer_Satisfaction_Post_Refund Common_Keywords  \n",
      "0                                  4      Affordable  \n",
      "1                                  2      Innovative  \n",
      "2                                  4      Affordable  \n",
      "3                                  1         Durable  \n",
      "4                                  2      Affordable  \n"
     ]
    }
   ],
   "source": [
    "data = pd.read_csv( \"C:/Users/Kalpitha/OneDrive/Desktop/Portfolio projects/marketing_and_product_performance.csv\")\n",
    "print(data.head())"
   ]
  },
  {
   "cell_type": "code",
   "execution_count": 4,
   "id": "d2b3bab9-fe56-4078-b0e8-d948206ca96a",
   "metadata": {},
   "outputs": [
    {
     "data": {
      "text/html": [
       "<div>\n",
       "<style scoped>\n",
       "    .dataframe tbody tr th:only-of-type {\n",
       "        vertical-align: middle;\n",
       "    }\n",
       "\n",
       "    .dataframe tbody tr th {\n",
       "        vertical-align: top;\n",
       "    }\n",
       "\n",
       "    .dataframe thead th {\n",
       "        text-align: right;\n",
       "    }\n",
       "</style>\n",
       "<table border=\"1\" class=\"dataframe\">\n",
       "  <thead>\n",
       "    <tr style=\"text-align: right;\">\n",
       "      <th></th>\n",
       "      <th>Budget</th>\n",
       "      <th>Clicks</th>\n",
       "      <th>Conversions</th>\n",
       "      <th>Revenue_Generated</th>\n",
       "      <th>ROI</th>\n",
       "      <th>Subscription_Length</th>\n",
       "      <th>Discount_Level</th>\n",
       "      <th>Units_Sold</th>\n",
       "      <th>Bundle_Price</th>\n",
       "      <th>Customer_Satisfaction_Post_Refund</th>\n",
       "    </tr>\n",
       "  </thead>\n",
       "  <tbody>\n",
       "    <tr>\n",
       "      <th>count</th>\n",
       "      <td>10000.000000</td>\n",
       "      <td>10000.000000</td>\n",
       "      <td>10000.000000</td>\n",
       "      <td>10000.000000</td>\n",
       "      <td>10000.000000</td>\n",
       "      <td>10000.000000</td>\n",
       "      <td>10000.000000</td>\n",
       "      <td>10000.000000</td>\n",
       "      <td>10000.000000</td>\n",
       "      <td>10000.000000</td>\n",
       "    </tr>\n",
       "    <tr>\n",
       "      <th>mean</th>\n",
       "      <td>25263.607524</td>\n",
       "      <td>2481.903600</td>\n",
       "      <td>498.978700</td>\n",
       "      <td>50038.627579</td>\n",
       "      <td>2.756365</td>\n",
       "      <td>18.016500</td>\n",
       "      <td>39.421000</td>\n",
       "      <td>100.689600</td>\n",
       "      <td>275.198346</td>\n",
       "      <td>2.500900</td>\n",
       "    </tr>\n",
       "    <tr>\n",
       "      <th>std</th>\n",
       "      <td>14350.085927</td>\n",
       "      <td>1435.973623</td>\n",
       "      <td>289.479495</td>\n",
       "      <td>28545.702337</td>\n",
       "      <td>1.296901</td>\n",
       "      <td>10.149666</td>\n",
       "      <td>17.212925</td>\n",
       "      <td>57.074015</td>\n",
       "      <td>129.218710</td>\n",
       "      <td>1.113249</td>\n",
       "    </tr>\n",
       "    <tr>\n",
       "      <th>min</th>\n",
       "      <td>500.440000</td>\n",
       "      <td>10.000000</td>\n",
       "      <td>1.000000</td>\n",
       "      <td>1002.080000</td>\n",
       "      <td>0.500000</td>\n",
       "      <td>1.000000</td>\n",
       "      <td>10.000000</td>\n",
       "      <td>1.000000</td>\n",
       "      <td>50.010000</td>\n",
       "      <td>1.000000</td>\n",
       "    </tr>\n",
       "    <tr>\n",
       "      <th>25%</th>\n",
       "      <td>12789.190000</td>\n",
       "      <td>1225.750000</td>\n",
       "      <td>247.000000</td>\n",
       "      <td>25264.255000</td>\n",
       "      <td>1.630000</td>\n",
       "      <td>9.000000</td>\n",
       "      <td>24.000000</td>\n",
       "      <td>52.000000</td>\n",
       "      <td>165.717500</td>\n",
       "      <td>2.000000</td>\n",
       "    </tr>\n",
       "    <tr>\n",
       "      <th>50%</th>\n",
       "      <td>25030.170000</td>\n",
       "      <td>2451.000000</td>\n",
       "      <td>499.000000</td>\n",
       "      <td>49513.815000</td>\n",
       "      <td>2.750000</td>\n",
       "      <td>18.000000</td>\n",
       "      <td>39.000000</td>\n",
       "      <td>101.000000</td>\n",
       "      <td>272.555000</td>\n",
       "      <td>2.000000</td>\n",
       "    </tr>\n",
       "    <tr>\n",
       "      <th>75%</th>\n",
       "      <td>37921.725000</td>\n",
       "      <td>3723.000000</td>\n",
       "      <td>751.000000</td>\n",
       "      <td>74507.157500</td>\n",
       "      <td>3.890000</td>\n",
       "      <td>27.000000</td>\n",
       "      <td>54.000000</td>\n",
       "      <td>150.000000</td>\n",
       "      <td>387.322500</td>\n",
       "      <td>3.000000</td>\n",
       "    </tr>\n",
       "    <tr>\n",
       "      <th>max</th>\n",
       "      <td>49999.630000</td>\n",
       "      <td>4999.000000</td>\n",
       "      <td>999.000000</td>\n",
       "      <td>99999.470000</td>\n",
       "      <td>5.000000</td>\n",
       "      <td>35.000000</td>\n",
       "      <td>69.000000</td>\n",
       "      <td>199.000000</td>\n",
       "      <td>499.970000</td>\n",
       "      <td>4.000000</td>\n",
       "    </tr>\n",
       "  </tbody>\n",
       "</table>\n",
       "</div>"
      ],
      "text/plain": [
       "             Budget        Clicks   Conversions  Revenue_Generated  \\\n",
       "count  10000.000000  10000.000000  10000.000000       10000.000000   \n",
       "mean   25263.607524   2481.903600    498.978700       50038.627579   \n",
       "std    14350.085927   1435.973623    289.479495       28545.702337   \n",
       "min      500.440000     10.000000      1.000000        1002.080000   \n",
       "25%    12789.190000   1225.750000    247.000000       25264.255000   \n",
       "50%    25030.170000   2451.000000    499.000000       49513.815000   \n",
       "75%    37921.725000   3723.000000    751.000000       74507.157500   \n",
       "max    49999.630000   4999.000000    999.000000       99999.470000   \n",
       "\n",
       "                ROI  Subscription_Length  Discount_Level    Units_Sold  \\\n",
       "count  10000.000000         10000.000000    10000.000000  10000.000000   \n",
       "mean       2.756365            18.016500       39.421000    100.689600   \n",
       "std        1.296901            10.149666       17.212925     57.074015   \n",
       "min        0.500000             1.000000       10.000000      1.000000   \n",
       "25%        1.630000             9.000000       24.000000     52.000000   \n",
       "50%        2.750000            18.000000       39.000000    101.000000   \n",
       "75%        3.890000            27.000000       54.000000    150.000000   \n",
       "max        5.000000            35.000000       69.000000    199.000000   \n",
       "\n",
       "       Bundle_Price  Customer_Satisfaction_Post_Refund  \n",
       "count  10000.000000                       10000.000000  \n",
       "mean     275.198346                           2.500900  \n",
       "std      129.218710                           1.113249  \n",
       "min       50.010000                           1.000000  \n",
       "25%      165.717500                           2.000000  \n",
       "50%      272.555000                           2.000000  \n",
       "75%      387.322500                           3.000000  \n",
       "max      499.970000                           4.000000  "
      ]
     },
     "execution_count": 4,
     "metadata": {},
     "output_type": "execute_result"
    }
   ],
   "source": [
    "data.describe()"
   ]
  },
  {
   "cell_type": "markdown",
   "id": "ad72e16c-d563-4795-aa55-f156bcb458be",
   "metadata": {},
   "source": [
    "\n",
    "\n",
    "*Quartile analysis*|"
   ]
  },
  {
   "cell_type": "code",
   "execution_count": 5,
   "id": "ff68b5f8-f4f8-4d4a-a612-3e6d53777257",
   "metadata": {},
   "outputs": [
    {
     "name": "stdout",
     "output_type": "stream",
     "text": [
      "0.25    25264.2550\n",
      "0.50    49513.8150\n",
      "0.75    74507.1575\n",
      "Name: Revenue_Generated, dtype: float64\n"
     ]
    }
   ],
   "source": [
    "quartiles= data['Revenue_Generated'].quantile([0.25, 0.50,0.75])\n",
    "print(quartiles)"
   ]
  },
  {
   "cell_type": "markdown",
   "id": "c8514965-295c-4289-b32a-a238ff2a3e59",
   "metadata": {},
   "source": [
    "According to the quartile information, Q1 cut-off is 25,264 ; median is 49,513 and Q3 cut-off is 74,507. Using this the 'bottom 25' and 'top 25' dataframes shall be figured to drive the analysis on comparisons "
   ]
  },
  {
   "cell_type": "markdown",
   "id": "c225cf1b-b374-4102-b072-95c0d5466654",
   "metadata": {},
   "source": [
    "Subsetting the data"
   ]
  },
  {
   "cell_type": "code",
   "execution_count": 6,
   "id": "7e2a74a8-b09d-4536-821d-dd734167f7e0",
   "metadata": {},
   "outputs": [
    {
     "name": "stdout",
     "output_type": "stream",
     "text": [
      "Bottom 25% Summary:\n",
      "            Budget       Clicks  Conversions  Revenue_Generated          ROI  \\\n",
      "count   2500.00000  2500.000000  2500.000000        2500.000000  2500.000000   \n",
      "mean   25713.02048  2485.364800   496.451600       13281.928188     2.740948   \n",
      "std    14437.24999  1439.333985   287.873821        6869.718565     1.310496   \n",
      "min      503.04000    10.000000     1.000000        1002.080000     0.500000   \n",
      "25%    13078.93750  1239.750000   247.000000        7511.247500     1.610000   \n",
      "50%    25905.17000  2467.500000   497.000000       13345.060000     2.720000   \n",
      "75%    38475.96750  3744.250000   743.000000       19164.092500     3.900000   \n",
      "max    49984.36000  4998.000000   999.000000       25259.680000     5.000000   \n",
      "\n",
      "       Subscription_Length  Discount_Level   Units_Sold  Bundle_Price  \\\n",
      "count          2500.000000     2500.000000  2500.000000   2500.000000   \n",
      "mean             17.859200       39.248800   100.169200    275.795756   \n",
      "std              10.132228       17.281017    56.730323    128.974243   \n",
      "min               1.000000       10.000000     1.000000     50.320000   \n",
      "25%               9.000000       24.000000    52.000000    166.605000   \n",
      "50%              18.000000       39.000000    99.000000    274.860000   \n",
      "75%              27.000000       54.000000   149.000000    386.250000   \n",
      "max              35.000000       69.000000   199.000000    499.950000   \n",
      "\n",
      "       Customer_Satisfaction_Post_Refund  \n",
      "count                         2500.00000  \n",
      "mean                             2.51920  \n",
      "std                              1.11343  \n",
      "min                              1.00000  \n",
      "25%                              2.00000  \n",
      "50%                              3.00000  \n",
      "75%                              4.00000  \n",
      "max                              4.00000  \n",
      "\n",
      "Top 25% Summary:\n",
      "             Budget       Clicks  Conversions  Revenue_Generated          ROI  \\\n",
      "count   2500.000000  2500.000000  2500.000000        2500.000000  2500.000000   \n",
      "mean   24814.718496  2457.812000   499.682400       87365.595748     2.761540   \n",
      "std    14422.419452  1438.778276   289.689161        7251.529075     1.280634   \n",
      "min      507.900000    12.000000     1.000000       74515.850000     0.510000   \n",
      "25%    12137.297500  1196.750000   245.000000       81060.950000     1.660000   \n",
      "50%    23827.920000  2418.000000   502.000000       87531.335000     2.770000   \n",
      "75%    37639.060000  3694.000000   756.000000       93661.757500     3.850000   \n",
      "max    49945.040000  4998.000000   999.000000       99999.470000     5.000000   \n",
      "\n",
      "       Subscription_Length  Discount_Level   Units_Sold  Bundle_Price  \\\n",
      "count          2500.000000     2500.000000  2500.000000   2500.000000   \n",
      "mean             18.145600       39.490800   102.213200    274.162660   \n",
      "std              10.140135       17.261851    57.790806    128.637158   \n",
      "min               1.000000       10.000000     1.000000     50.140000   \n",
      "25%               9.000000       24.750000    53.000000    162.780000   \n",
      "50%              18.000000       39.000000   104.000000    271.035000   \n",
      "75%              27.000000       54.000000   153.000000    385.740000   \n",
      "max              35.000000       69.000000   199.000000    499.970000   \n",
      "\n",
      "       Customer_Satisfaction_Post_Refund  \n",
      "count                        2500.000000  \n",
      "mean                            2.488400  \n",
      "std                             1.123553  \n",
      "min                             1.000000  \n",
      "25%                             1.000000  \n",
      "50%                             2.000000  \n",
      "75%                             4.000000  \n",
      "max                             4.000000  \n"
     ]
    }
   ],
   "source": [
    "q1_cutoff = quartiles.loc[0.25]\n",
    "q3_cutoff = quartiles.loc[0.75]\n",
    "\n",
    "bottom25 = data[data['Revenue_Generated'] <= q1_cutoff].copy()\n",
    "top25    = data[data['Revenue_Generated'] >= q3_cutoff].copy()\n",
    "\n",
    "print(\"Bottom 25% Summary:\")\n",
    "print(bottom25.describe())\n",
    "\n",
    "print(\"\\nTop 25% Summary:\")\n",
    "print(top25.describe())\n",
    "\n"
   ]
  },
  {
   "cell_type": "code",
   "execution_count": 7,
   "id": "db663241-bbc3-46c3-95d7-162f91b6b887",
   "metadata": {},
   "outputs": [
    {
     "data": {
      "image/png": "[encoded data removed]",
      "text/plain": [
       "<Figure size 640x480 with 1 Axes>"
      ]
     },
     "metadata": {},
     "output_type": "display_data"
    }
   ],
   "source": [
    "# Histogram comparison\n",
    "\n",
    "avg_bottom = bottom25['Revenue_Generated'].mean()\n",
    "avg_top = top25['Revenue_Generated'].mean()\n",
    "\n",
    "# Bar chart\n",
    "plt.bar(['Bottom 25%', 'Top 25%'], [avg_bottom, avg_top], color=['red', 'green'])\n",
    "plt.title('Average Revenue: Bottom vs Top 25%')\n",
    "plt.ylabel('Average Revenue Generated')\n",
    "plt.grid(axis='y')\n",
    "plt.show()"
   ]
  },
  {
   "cell_type": "markdown",
   "id": "ce5fe7bc-efe3-4282-b732-94e257fd1c73",
   "metadata": {},
   "source": [
    "Deriving comparisons with other features to draw analysis on the reason why the top 25% has better revenue generation "
   ]
  },
  {
   "cell_type": "markdown",
   "id": "fa19f973-9a2a-4089-a5e5-5d3ed81e3494",
   "metadata": {},
   "source": [
    "***Feature standardisation***"
   ]
  },
  {
   "cell_type": "markdown",
   "id": "b4494e2f-d26e-4d05-81d0-2d9551ca2363",
   "metadata": {},
   "source": [
    "Performing z-score standardisation to make all the numerical values have a mean of 0 and standard deviation of 1"
   ]
  },
  {
   "cell_type": "code",
   "execution_count": 9,
   "id": "dfb3f49e-ba95-48ec-99a0-87feafca7d66",
   "metadata": {},
   "outputs": [
    {
     "name": "stdout",
     "output_type": "stream",
     "text": [
      "\n",
      "--- Conversion Rate (CR) ---\n",
      "count    10000.000000\n",
      "mean         0.609758\n",
      "std          2.322292\n",
      "min          0.000204\n",
      "25%          0.099834\n",
      "50%          0.201990\n",
      "75%          0.401150\n",
      "max         64.933333\n",
      "Name: CR, dtype: float64\n",
      "\n",
      "--- Revenue per Budget ---\n",
      "count    10000.000000\n",
      "mean         4.666325\n",
      "std         10.113065\n",
      "min          0.020675\n",
      "25%          0.992535\n",
      "50%          1.967545\n",
      "75%          3.940290\n",
      "max        184.444458\n",
      "Name: Revenue_per_Budget, dtype: float64\n",
      "\n",
      "--- Cost per conversion (CPC) ---\n",
      "count    10000.000000\n",
      "mean       188.644651\n",
      "std       1099.360829\n",
      "min          0.570034\n",
      "25%         25.520194\n",
      "50%         50.539639\n",
      "75%        102.627482\n",
      "max      48805.150000\n",
      "Name: CPC, dtype: float64\n"
     ]
    }
   ],
   "source": [
    "\n",
    "# Calculating derived metrics\n",
    "data['CR'] = data['Conversions'] / data['Clicks']\n",
    "data['Revenue_per_Budget'] = data['Revenue_Generated'] / data['Budget']\n",
    "data['CPC'] = data['Budget'] / data['Conversions']\n",
    "\n",
    "# Print each metric separately with clear labels\n",
    "print(\"\\n--- Conversion Rate (CR) ---\")\n",
    "print(data['CR'].describe())\n",
    "\n",
    "print(\"\\n--- Revenue per Budget ---\")\n",
    "print(data['Revenue_per_Budget'].describe())\n",
    "\n",
    "print(\"\\n--- Cost per conversion (CPC) ---\")\n",
    "print(data['CPC'].describe())\n"
   ]
  },
  {
   "cell_type": "markdown",
   "id": "1e85d9a7-acbf-46a5-a4ca-011cebe2d53c",
   "metadata": {},
   "source": [
    "Subsetting top and bottom 25 again after calculating derived metrices"
   ]
  },
  {
   "cell_type": "code",
   "execution_count": 10,
   "id": "a3c38b07-5403-40fd-8531-0793a873db0b",
   "metadata": {},
   "outputs": [
    {
     "name": "stdout",
     "output_type": "stream",
     "text": [
      "     Campaign_ID   Product_ID    Budget  Clicks  Conversions  \\\n",
      "1629  CMP_QL4ACK  PROD_YWCQ5B  23408.73     137          271   \n",
      "9524  CMP_T6578B  PROD_OEWJUT  36038.44    2416          137   \n",
      "4052  CMP_KJHPXL  PROD_8JEJ8V  10885.17     953          676   \n",
      "5078  CMP_055BQ3  PROD_XETFB1  22841.33    4429          696   \n",
      "5968  CMP_XRPO8L  PROD_CAG26A   4772.15    2292          745   \n",
      "\n",
      "      Revenue_Generated   ROI  Customer_ID Subscription_Tier  \\\n",
      "1629           99999.47  0.80  CUST_BCB4T1           Premium   \n",
      "9524           99995.06  3.71  CUST_N31Y4W             Basic   \n",
      "4052           99980.64  1.62  CUST_0LP6Y8             Basic   \n",
      "5078           99958.93  1.79  CUST_Z1F7IO          Standard   \n",
      "5968           99931.65  3.87  CUST_PU5BKZ           Premium   \n",
      "\n",
      "      Subscription_Length Flash_Sale_ID  Discount_Level  Units_Sold  \\\n",
      "1629                   27  FLASH_QO2Y49              66           6   \n",
      "9524                   11  FLASH_3POFCK              19          53   \n",
      "4052                   17  FLASH_REW15E              51         150   \n",
      "5078                   20  FLASH_6T7FXV              13         107   \n",
      "5968                   12  FLASH_KGDD39              35         119   \n",
      "\n",
      "        Bundle_ID  Bundle_Price  Customer_Satisfaction_Post_Refund  \\\n",
      "1629  BNDL_7QT2MU        457.55                                  1   \n",
      "9524  BNDL_3NM4CI        152.66                                  2   \n",
      "4052  BNDL_PNKVV2         85.32                                  2   \n",
      "5078  BNDL_5VULHI        156.56                                  4   \n",
      "5968  BNDL_XC8GCZ        364.67                                  3   \n",
      "\n",
      "     Common_Keywords        CR  Revenue_per_Budget         CPC  \n",
      "1629      Affordable  1.978102            4.271888   86.379077  \n",
      "9524      Affordable  0.056705            2.774678  263.054307  \n",
      "4052      Innovative  0.709339            9.185032   16.102322  \n",
      "5078      Innovative  0.157146            4.376231   32.818003  \n",
      "5968      Innovative  0.325044           20.940593    6.405570  \n",
      "\n",
      "\n",
      "     Campaign_ID   Product_ID    Budget  Clicks  Conversions  \\\n",
      "8722  CMP_N8CJVZ  PROD_Z0I4WX  42474.37    3937          319   \n",
      "7408  CMP_WCG8G4  PROD_191BJ3  14333.20    3328          952   \n",
      "965   CMP_1KM2BQ  PROD_9TJKQE  42410.80     508          151   \n",
      "8285  CMP_WIKJ6K  PROD_D778BL  49970.89    2145          961   \n",
      "6634  CMP_X2A98D  PROD_IM2E3A  28770.37    2352          439   \n",
      "\n",
      "      Revenue_Generated   ROI  Customer_ID Subscription_Tier  \\\n",
      "8722            1002.08  1.42  CUST_IFWTSB          Standard   \n",
      "7408            1008.88  1.32  CUST_EM7KPN          Standard   \n",
      "965             1020.84  3.86  CUST_ZZNB3J             Basic   \n",
      "8285            1033.15  1.29  CUST_QH1TDH             Basic   \n",
      "6634            1049.04  1.93  CUST_UQ8RU1           Premium   \n",
      "\n",
      "      Subscription_Length Flash_Sale_ID  Discount_Level  Units_Sold  \\\n",
      "8722                   21  FLASH_N62ASM              68          60   \n",
      "7408                   31  FLASH_XASNQ7              49          31   \n",
      "965                    24  FLASH_9QTY78              67         130   \n",
      "8285                    3  FLASH_T6V50H              45          57   \n",
      "6634                   17  FLASH_KN5F9N              13          51   \n",
      "\n",
      "        Bundle_ID  Bundle_Price  Customer_Satisfaction_Post_Refund  \\\n",
      "8722  BNDL_OYWNCY        277.36                                  4   \n",
      "7408  BNDL_LNKWMI        372.87                                  1   \n",
      "965   BNDL_H7A26E        382.84                                  3   \n",
      "8285  BNDL_6SFO9S         73.77                                  1   \n",
      "6634  BNDL_VRQDR2        211.10                                  3   \n",
      "\n",
      "     Common_Keywords        CR  Revenue_per_Budget         CPC  \n",
      "8722         Stylish  0.081026            0.023593  133.148495  \n",
      "7408         Stylish  0.286058            0.070388   15.055882  \n",
      "965       Innovative  0.297244            0.024070  280.866225  \n",
      "8285      Innovative  0.448019            0.020675   51.998845  \n",
      "6634         Stylish  0.186650            0.036463   65.536150  \n"
     ]
    }
   ],
   "source": [
    "top25 = data.nlargest(25, 'Revenue_Generated')\n",
    "bottom25 = data.nsmallest(25, 'Revenue_Generated')\n",
    "print(top25.head())\n",
    "\n",
    "print(\"\\n\" )\n",
    "print(bottom25.head())\n"
   ]
  },
  {
   "cell_type": "code",
   "execution_count": 11,
   "id": "690a18c4-69f8-4269-b38a-cda5acb430a4",
   "metadata": {},
   "outputs": [],
   "source": [
    "from sklearn.preprocessing import StandardScaler"
   ]
  },
  {
   "cell_type": "code",
   "execution_count": 12,
   "id": "77f78852-0d16-4ce4-82b0-6208f4a88fa1",
   "metadata": {},
   "outputs": [
    {
     "name": "stdout",
     "output_type": "stream",
     "text": [
      "     Budget    Clicks  Conversions  Revenue_Generated       ROI  Units_Sold  \\\n",
      "0  1.150353  1.716062    -1.471607          -1.209298 -0.629505   -1.168534   \n",
      "1  0.323173 -1.331500     0.038075          -0.671674 -1.539412   -0.064649   \n",
      "2 -0.201832  0.741065    -0.808314          -0.611436 -1.038192    1.039236   \n",
      "3  0.327118  0.063442     0.974285           1.601074  0.434623    1.021714   \n",
      "4  0.767531 -1.158786    -1.450879           1.119377  0.596556   -0.853138   \n",
      "\n",
      "   Subscription_Length  Customer_Satisfaction_Post_Refund  Bundle_Price  \\\n",
      "0            -1.381050                           1.346666      1.227451   \n",
      "1            -1.381050                          -0.449967      0.109058   \n",
      "2            -0.888399                           1.346666      1.452429   \n",
      "3             1.377799                          -1.348283      0.456316   \n",
      "4             1.082208                          -0.449967      0.746614   \n",
      "\n",
      "   Discount_Level        CR  Revenue_per_Budget       CPC  \n",
      "0        0.207936 -0.256225           -0.424696  0.348905  \n",
      "1       -0.663546  0.122721           -0.359359 -0.118270  \n",
      "2        0.672726 -0.230398           -0.317377 -0.094823  \n",
      "3       -0.198756 -0.131868           -0.145410 -0.136711  \n",
      "4       -1.128336 -0.220991           -0.237943  0.246119  \n"
     ]
    }
   ],
   "source": [
    "#listing numerical features in a dataframe \n",
    "\n",
    "numerical_df = [\n",
    "    'Budget', 'Clicks', 'Conversions', 'Revenue_Generated',\n",
    "    'ROI', 'Units_Sold', 'Subscription_Length',\n",
    "    'Customer_Satisfaction_Post_Refund', 'Bundle_Price', 'Discount_Level', 'CR', 'Revenue_per_Budget','CPC' \n",
    "]\n",
    "\n",
    "#Applying Z-score normalization\n",
    "scaler = StandardScaler()\n",
    "data[numerical_df] = scaler.fit_transform(data[numerical_df])\n",
    "\n",
    "print(data[numerical_df] .head())\n"
   ]
  },
  {
   "cell_type": "markdown",
   "id": "84e2ec36-122d-4ad7-ba3b-f190664a223a",
   "metadata": {},
   "source": [
    "Interpreting the campaign parameters between top25 and bottom25 (grouped by revenue) to analyse which parameters are different (and potentially better) in the top 25,"
   ]
  },
  {
   "cell_type": "code",
   "execution_count": 14,
   "id": "ed4046df-6d72-45e7-b264-552a05120af6",
   "metadata": {},
   "outputs": [],
   "source": [
    "from scipy.stats import ttest_ind"
   ]
  },
  {
   "cell_type": "code",
   "execution_count": 15,
   "id": "fb10ff48-091f-4081-ae7d-bb3aeb28e44c",
   "metadata": {},
   "outputs": [
    {
     "name": "stdout",
     "output_type": "stream",
     "text": [
      "t-statistic: 1.01, p-value: 0.3168\n"
     ]
    }
   ],
   "source": [
    "#conversion rate \n",
    "t_stat, p_val = ttest_ind(top25['CR'], bottom25['CR'], nan_policy='omit')\n",
    "print(f\"t-statistic: {t_stat:.2f}, p-value: {p_val:.4f}\")"
   ]
  },
  {
   "cell_type": "markdown",
   "id": "0c077f98-ef46-46aa-bafc-4107bb1a2c51",
   "metadata": {},
   "source": [
    "This means there is no statistically significant difference between the means of this metric"
   ]
  },
  {
   "cell_type": "code",
   "execution_count": 16,
   "id": "652a0e2d-9dcb-4dce-81d3-c9717cd3a8bd",
   "metadata": {},
   "outputs": [
    {
     "name": "stdout",
     "output_type": "stream",
     "text": [
      "t-statistic: 3.30, p-value: 0.0018\n"
     ]
    }
   ],
   "source": [
    "#return on spend\n",
    "t_stat, p_val = ttest_ind(top25['Revenue_per_Budget'], bottom25['Revenue_per_Budget'], nan_policy='omit')\n",
    "print(f\"t-statistic: {t_stat:.2f}, p-value: {p_val:.4f}\")"
   ]
  },
  {
   "cell_type": "markdown",
   "id": "af0c6a7a-94a2-419e-a654-29a2f8df9539",
   "metadata": {},
   "source": [
    "This difference is not statistically significant "
   ]
  },
  {
   "cell_type": "code",
   "execution_count": 17,
   "id": "001bf5a6-61c7-4268-8a69-42400ee82340",
   "metadata": {},
   "outputs": [
    {
     "name": "stdout",
     "output_type": "stream",
     "text": [
      "t-statistic: -0.24, p-value: 0.8108\n"
     ]
    }
   ],
   "source": [
    "#cost per conversion\n",
    "t_stat, p_val = ttest_ind(top25['CPC'], bottom25['CPC'], nan_policy='omit')\n",
    "print(f\"t-statistic: {t_stat:.2f}, p-value: {p_val:.4f}\")"
   ]
  },
  {
   "cell_type": "markdown",
   "id": "ce18910b-f83a-4c36-aef4-50f1b010efb5",
   "metadata": {},
   "source": [
    "There is no statistically significant difference in \"cost per conversion\" between top 25 and bottom 25 campaigns"
   ]
  },
  {
   "cell_type": "code",
   "execution_count": 25,
   "id": "1fa17db3-5252-47c4-8ea1-dfdb05950ddb",
   "metadata": {},
   "outputs": [
    {
     "name": "stdout",
     "output_type": "stream",
     "text": [
      "t-statistic: -1.35, p-value: 0.1848\n"
     ]
    }
   ],
   "source": [
    "# For each metric:\n",
    "t_stat, p_val = ttest_ind(top25['Budget'], bottom25['Budget'], nan_policy='omit')\n",
    "print(f\"t-statistic: {t_stat:.2f}, p-value: {p_val:.4f}\")"
   ]
  },
  {
   "cell_type": "markdown",
   "id": "4190e1dd-4097-4581-a6e2-68f8dfce32f4",
   "metadata": {},
   "source": [
    "There is no statistically significant difference in the average budget between top 25 and bottom 25 campaigns"
   ]
  },
  {
   "cell_type": "code",
   "execution_count": 26,
   "id": "68b204c3-d1e3-4601-ab38-73b559d82e08",
   "metadata": {},
   "outputs": [
    {
     "name": "stdout",
     "output_type": "stream",
     "text": [
      "t-statistic: 1.63, p-value: 0.1094\n"
     ]
    }
   ],
   "source": [
    "\n",
    "t_stat, p_val = ttest_ind(top25['ROI'], bottom25['ROI'], nan_policy='omit')\n",
    "print(f\"t-statistic: {t_stat:.2f}, p-value: {p_val:.4f}\")"
   ]
  },
  {
   "cell_type": "markdown",
   "id": "01ea8487-3e9e-4d0b-b83d-ac0a3c32b7d8",
   "metadata": {},
   "source": [
    "There is no statistically significant difference in ROI between top 25 and bottom 25 campaigns"
   ]
  },
  {
   "cell_type": "code",
   "execution_count": 27,
   "id": "73fb5a5b-0691-4309-944d-ef19eea1fe39",
   "metadata": {},
   "outputs": [
    {
     "name": "stdout",
     "output_type": "stream",
     "text": [
      "t-statistic: 0.12, p-value: 0.9075\n"
     ]
    }
   ],
   "source": [
    "\n",
    "t_stat, p_val = ttest_ind(top25['Customer_Satisfaction_Post_Refund'], bottom25['Customer_Satisfaction_Post_Refund'], nan_policy='omit')\n",
    "print(f\"t-statistic: {t_stat:.2f}, p-value: {p_val:.4f}\")"
   ]
  },
  {
   "cell_type": "markdown",
   "id": "b437472e-66d5-41cc-86af-d9b7761c8e2f",
   "metadata": {},
   "source": [
    "There is no meaningful or statistically significant difference in customer satisfaction post refund between  top and bottom revenue campaigns."
   ]
  },
  {
   "cell_type": "markdown",
   "id": "f4086720-9e4e-4b39-add8-78eed12403d4",
   "metadata": {},
   "source": [
    "**Running cluster analysis on all campigns to check where the top25 and bottom25 fall**"
   ]
  },
  {
   "cell_type": "code",
   "execution_count": 29,
   "id": "c43defcb-1ce6-44c1-ae57-8df6d9b59130",
   "metadata": {},
   "outputs": [],
   "source": [
    "from sklearn.cluster import KMeans"
   ]
  },
  {
   "cell_type": "code",
   "execution_count": 58,
   "id": "dcb062bf-2c4d-4580-a460-2affc12f132f",
   "metadata": {},
   "outputs": [
    {
     "data": {
      "image/png": "[encoded data removed]",
      "text/plain": [
       "<Figure size 640x480 with 1 Axes>"
      ]
     },
     "metadata": {},
     "output_type": "display_data"
    }
   ],
   "source": [
    "\n",
    "x= data[numerical_df]\n",
    "wcss = []\n",
    "max_clusters = min(10, len(x)) \n",
    "\n",
    "for k in range(1, max_clusters + 1):\n",
    "    kmeans = KMeans(n_clusters=k, init='k-means++', max_iter=300, n_init=10, random_state=0)\n",
    "    kmeans.fit(x)  \n",
    "    wcss.append(kmeans.inertia_)\n",
    "\n",
    "plt.plot(range(1, max_clusters + 1), wcss, marker='o')\n",
    "plt.title('Elbow Method For Optimal k')\n",
    "plt.xlabel('Number of clusters')\n",
    "plt.ylabel('WCSS (Inertia)')\n",
    "plt.show()\n"
   ]
  },
  {
   "cell_type": "code",
   "execution_count": 64,
   "id": "8cd1b947-bb0c-4e56-8459-32dba3b120b1",
   "metadata": {},
   "outputs": [
    {
     "name": "stderr",
     "output_type": "stream",
     "text": [
      "C:\\Users\\Kalpitha\\AppData\\Local\\Temp\\ipykernel_3888\\42713146.py:4: SettingWithCopyWarning: \n",
      "A value is trying to be set on a copy of a slice from a DataFrame.\n",
      "Try using .loc[row_indexer,col_indexer] = value instead\n",
      "\n",
      "See the caveats in the documentation: https://pandas.pydata.org/pandas-docs/stable/user_guide/indexing.html#returning-a-view-versus-a-copy\n",
      "  x['cluster'] = cluster_labels\n"
     ]
    }
   ],
   "source": [
    "optimal_k = 3  \n",
    "kmeans = KMeans(n_clusters=optimal_k, random_state=0)\n",
    "cluster_labels = kmeans.fit_predict(x)\n",
    "x['cluster'] = cluster_labels"
   ]
  },
  {
   "cell_type": "code",
   "execution_count": 60,
   "id": "66da2427-e5a4-4032-a8bf-ffa4ad5e0da5",
   "metadata": {},
   "outputs": [],
   "source": [
    "data['cluster'] = cluster_labels\n"
   ]
  },
  {
   "cell_type": "code",
   "execution_count": 61,
   "id": "4b0e688a-2b75-44ba-aa14-bf30b53b568b",
   "metadata": {},
   "outputs": [
    {
     "name": "stdout",
     "output_type": "stream",
     "text": [
      "          Budget    Clicks  Conversions  Revenue_Generated       ROI  \\\n",
      "cluster                                                                \n",
      "0       -0.98733  0.062557     0.085894           0.207743 -0.044921   \n",
      "1        0.68784 -0.044253    -0.056429          -0.144619  0.030436   \n",
      "2        0.53561  0.295410    -1.718614          -0.165872  0.445547   \n",
      "\n",
      "         Subscription_Length  Discount_Level  Units_Sold  Bundle_Price  \\\n",
      "cluster                                                                  \n",
      "0                   0.061909        0.003097   -0.030527     -0.001259   \n",
      "1                  -0.042291       -0.002170    0.021323      0.000717   \n",
      "2                  -0.445012        0.004590   -0.010623      0.079133   \n",
      "\n",
      "         Customer_Satisfaction_Post_Refund        CR  Revenue_per_Budget  \\\n",
      "cluster                                                                    \n",
      "0                                 0.009805 -0.058833            0.470927   \n",
      "1                                -0.005618  0.041587           -0.327966   \n",
      "2                                -0.599686 -0.262077           -0.310681   \n",
      "\n",
      "               CPC  \n",
      "cluster             \n",
      "0        -0.120116  \n",
      "1         0.037751  \n",
      "2        22.582129  \n"
     ]
    }
   ],
   "source": [
    "cluster_profiles = data.groupby('cluster').mean(numeric_only=True)\n",
    "print(cluster_profiles)\n"
   ]
  },
  {
   "cell_type": "code",
   "execution_count": 62,
   "id": "294298fc-4be7-499c-b789-2a56bdc15fb5",
   "metadata": {},
   "outputs": [
    {
     "name": "stdout",
     "output_type": "stream",
     "text": [
      "performance_group  Bottom 25  Other  Top 25\n",
      "cluster                                    \n",
      "0                          8   4080      17\n",
      "1                         17   5858       8\n",
      "2                          0     12       0\n"
     ]
    }
   ],
   "source": [
    "data['performance_group'] = 'Other'\n",
    "data.loc[data['Campaign_ID'].isin(top25['Campaign_ID']), 'performance_group'] = 'Top 25'\n",
    "data.loc[data['Campaign_ID'].isin(bottom25['Campaign_ID']), 'performance_group'] = 'Bottom 25'\n",
    "\n",
    "print(pd.crosstab(data['cluster'], data['performance_group']))\n"
   ]
  },
  {
   "cell_type": "code",
   "execution_count": 63,
   "id": "3ea96062-3731-4071-937d-6e958142abb7",
   "metadata": {},
   "outputs": [
    {
     "data": {
      "image/png": "[encoded data removed]",
      "text/plain": [
       "<Figure size 800x600 with 1 Axes>"
      ]
     },
     "metadata": {},
     "output_type": "display_data"
    }
   ],
   "source": [
    "from sklearn.decomposition import PCA\n",
    "import matplotlib.pyplot as plt\n",
    "import seaborn as sns\n",
    "\n",
    "pca = PCA(n_components=2)\n",
    "components = pca.fit_transform(x.drop('cluster', axis=1))  # exclude cluster column for PCA\n",
    "data['PC1'] = components[:, 0]\n",
    "data['PC2'] = components[:, 1]\n",
    "\n",
    "plt.figure(figsize=(8,6))\n",
    "sns.scatterplot(x='PC1', y='PC2', hue='cluster', style='performance_group', data=data, palette='Set1')\n",
    "plt.title('Campaign Clusters (PCA-reduced)')\n",
    "plt.show()\n"
   ]
  },
  {
   "cell_type": "code",
   "execution_count": null,
   "id": "7687bb1e-a8cb-42e9-ac6d-18ec29e800a6",
   "metadata": {},
   "outputs": [],
   "source": []
  }
 ],
 "metadata": {
  "kernelspec": {
   "display_name": "Python 3 (ipykernel)",
   "language": "python",
   "name": "python3"
  },
  "language_info": {
   "codemirror_mode": {
    "name": "ipython",
    "version": 3
   },
   "file_extension": ".py",
   "mimetype": "text/x-python",
   "name": "python",
   "nbconvert_exporter": "python",
   "pygments_lexer": "ipython3",
   "version": "3.11.11"
  }
 },
 "nbformat": 4,
 "nbformat_minor": 5
}
